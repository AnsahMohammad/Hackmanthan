{
 "cells": [
  {
   "cell_type": "code",
   "execution_count": 3,
   "metadata": {},
   "outputs": [],
   "source": [
    "apikey = 'Uj0kpwPhaj99JT04MYpaAtOuOlLc4YoOMMNRu3hMS1Sc'\n",
    "url = 'https://api.eu-gb.natural-language-understanding.watson.cloud.ibm.com/instances/92e976f2-fad7-44b1-b54e-b225c7079bac'"
   ]
  },
  {
   "cell_type": "code",
   "execution_count": 17,
   "metadata": {},
   "outputs": [
    {
     "name": "stdout",
     "output_type": "stream",
     "text": [
      "{\n",
      "  \"usage\": {\n",
      "    \"text_units\": 1,\n",
      "    \"text_characters\": 140,\n",
      "    \"features\": 2\n",
      "  },\n",
      "  \"language\": \"en\",\n",
      "  \"keywords\": [\n",
      "    {\n",
      "      \"text\": \"American multinational technology company\",\n",
      "      \"sentiment\": {\n",
      "        \"score\": 0,\n",
      "        \"label\": \"neutral\"\n",
      "      },\n",
      "      \"relevance\": 0.984693,\n",
      "      \"emotion\": {\n",
      "        \"sadness\": 0.193341,\n",
      "        \"joy\": 0.621673,\n",
      "        \"fear\": 0.011385,\n",
      "        \"disgust\": 0.003987,\n",
      "        \"anger\": 0.017247\n",
      "      },\n",
      "      \"count\": 1\n",
      "    },\n",
      "    {\n",
      "      \"text\": \"United States\",\n",
      "      \"sentiment\": {\n",
      "        \"score\": 0,\n",
      "        \"label\": \"neutral\"\n",
      "      },\n",
      "      \"relevance\": 0.854311,\n",
      "      \"emotion\": {\n",
      "        \"sadness\": 0.193341,\n",
      "        \"joy\": 0.621673,\n",
      "        \"fear\": 0.011385,\n",
      "        \"disgust\": 0.003987,\n",
      "        \"anger\": 0.017247\n",
      "      },\n",
      "      \"count\": 1\n",
      "    }\n",
      "  ],\n",
      "  \"entities\": [\n",
      "    {\n",
      "      \"type\": \"Organization\",\n",
      "      \"text\": \"American multinational technology company headquartered\",\n",
      "      \"sentiment\": {\n",
      "        \"score\": 0,\n",
      "        \"label\": \"neutral\"\n",
      "      },\n",
      "      \"relevance\": 0.954265,\n",
      "      \"emotion\": {\n",
      "        \"sadness\": 0.193341,\n",
      "        \"joy\": 0.621673,\n",
      "        \"fear\": 0.011385,\n",
      "        \"disgust\": 0.003987,\n",
      "        \"anger\": 0.017247\n",
      "      },\n",
      "      \"count\": 1,\n",
      "      \"confidence\": 0.202417\n",
      "    },\n",
      "    {\n",
      "      \"type\": \"Location\",\n",
      "      \"text\": \"Armonk, New York\",\n",
      "      \"sentiment\": {\n",
      "        \"score\": 0,\n",
      "        \"label\": \"neutral\"\n",
      "      },\n",
      "      \"relevance\": 0.656387,\n",
      "      \"emotion\": {\n",
      "        \"sadness\": 0.193341,\n",
      "        \"joy\": 0.621673,\n",
      "        \"fear\": 0.011385,\n",
      "        \"disgust\": 0.003987,\n",
      "        \"anger\": 0.017247\n",
      "      },\n",
      "      \"count\": 1,\n",
      "      \"confidence\": 0.744882\n",
      "    }\n",
      "  ]\n",
      "}\n"
     ]
    }
   ],
   "source": [
    "import json\n",
    "from ibm_watson import NaturalLanguageUnderstandingV1\n",
    "from ibm_cloud_sdk_core.authenticators import IAMAuthenticator\n",
    "from ibm_watson.natural_language_understanding_v1 import Features, EntitiesOptions, KeywordsOptions\n"
   ]
  },
  {
   "cell_type": "code",
   "execution_count": 7,
   "metadata": {},
   "outputs": [],
   "source": [
    "authenticator = IAMAuthenticator(apikey)\n",
    "natural_language_understanding = NaturalLanguageUnderstandingV1(\n",
    "    version='2022-04-07',\n",
    "    authenticator=authenticator)\n",
    "\n",
    "natural_language_understanding.set_service_url(url)"
   ]
  },
  {
   "cell_type": "code",
   "execution_count": 21,
   "metadata": {},
   "outputs": [],
   "source": [
    "test = '''Madrid join Liverpool, Bayern Munich and Manchester City in the quarterfinals of the competition.\n",
    "\n",
    "\"We wanted to see this stadium like the fans were today, we needed them, the win is for them; it was very difficult, we pushed until the end and we deserved to go through,\" Benzema said postmatch.\n",
    "\n",
    "\"We lost the first leg, we were 1-0 down at half-time, it was a huge effort, the fans pushed us to give everything until the end. They're Champions League games, it's difficult. We know PSG like to have the ball. We started well, we had chances, we didn't take them and they scored on the counter, but in the second half we played our game.\n",
    "\n",
    "\"When we press we can beat any team, it's about pressing as a team, everyone in their position, and with the fans. Every game is a final for us, in the league and the Champions League. Today Real Madrid are alive.\"'''\n",
    "\n",
    "test1 = \"You're good for nothing, Jaswant you're useless as shit\""
   ]
  },
  {
   "cell_type": "code",
   "execution_count": 20,
   "metadata": {},
   "outputs": [
    {
     "name": "stdout",
     "output_type": "stream",
     "text": [
      "{'usage': {'text_units': 1, 'text_characters': 853, 'features': 2}, 'language': 'en', 'keywords': [{'text': 'Madrid join Liverpool', 'sentiment': {'score': 0, 'label': 'neutral'}, 'relevance': 0.71645, 'count': 1}, {'text': 'Today Real Madrid', 'sentiment': {'score': 0.874012, 'label': 'positive'}, 'relevance': 0.680545, 'count': 1}], 'entities': [{'type': 'Location', 'text': 'Bayern', 'sentiment': {'score': 0, 'label': 'neutral'}, 'relevance': 0.950753, 'count': 1, 'confidence': 0.404158}, {'type': 'Organization', 'text': 'Manchester City', 'sentiment': {'score': 0, 'label': 'neutral'}, 'relevance': 0.900857, 'disambiguation': {'subtype': ['SportsTeam', 'FootballTeam', 'SportsLeagueAwardWinner'], 'name': 'Manchester_City_F.C.', 'dbpedia_resource': 'http://dbpedia.org/resource/Manchester_City_F.C.'}, 'count': 1, 'confidence': 0.488242}, {'type': 'Location', 'text': 'Munich', 'sentiment': {'score': 0, 'label': 'neutral'}, 'relevance': 0.827481, 'count': 1, 'confidence': 0.319891}, {'type': 'Person', 'text': 'Benzema', 'sentiment': {'score': -0.408142, 'label': 'negative'}, 'relevance': 0.820101, 'count': 1, 'confidence': 0.987232}, {'type': 'Organization', 'text': 'Madrid', 'sentiment': {'score': 0, 'label': 'neutral'}, 'relevance': 0.814731, 'disambiguation': {'name': 'Madrid_%28band%29', 'dbpedia_resource': 'http://dbpedia.org/resource/Madrid_%28band%29'}, 'count': 1, 'confidence': 0.782997}, {'type': 'Organization', 'text': 'Liverpool', 'sentiment': {'score': 0, 'label': 'neutral'}, 'relevance': 0.776678, 'count': 1, 'confidence': 0.583437}, {'type': 'Organization', 'text': 'Champions League', 'sentiment': {'score': 0.559674, 'mixed': '1', 'label': 'positive'}, 'relevance': 0.545238, 'count': 2, 'confidence': 0.986177}, {'type': 'Organization', 'text': 'PSG', 'sentiment': {'score': 0, 'label': 'neutral'}, 'relevance': 0.534437, 'count': 1, 'confidence': 0.881346}, {'type': 'Organization', 'text': 'Today Real Madrid', 'sentiment': {'score': 0.874012, 'label': 'positive'}, 'relevance': 0.059852, 'count': 1, 'confidence': 0.124583}]}\n"
     ]
    }
   ],
   "source": [
    "response = natural_language_understanding.analyze(\n",
    "    text=test,\n",
    "    features=Features(\n",
    "        entities=EntitiesOptions(emotion=False, sentiment=True, limit=None),\n",
    "        keywords=KeywordsOptions(emotion=False, sentiment=True,limit=2))).get_result()\n",
    "\n",
    "print(response)"
   ]
  },
  {
   "cell_type": "code",
   "execution_count": 22,
   "metadata": {},
   "outputs": [
    {
     "name": "stdout",
     "output_type": "stream",
     "text": [
      "{'usage': {'text_units': 1, 'text_characters': 55, 'features': 2}, 'language': 'en', 'keywords': [{'text': 'Jaswant', 'sentiment': {'score': -0.996981, 'label': 'negative'}, 'relevance': 0.812132, 'count': 1}, {'text': 'shit', 'sentiment': {'score': -0.996981, 'label': 'negative'}, 'relevance': 0.690082, 'count': 1}], 'entities': []}\n"
     ]
    }
   ],
   "source": [
    "response1 = natural_language_understanding.analyze(\n",
    "    text=test1,\n",
    "    features=Features(\n",
    "        entities=EntitiesOptions(emotion=False, sentiment=True, limit=None),\n",
    "        keywords=KeywordsOptions(emotion=False, sentiment=True,limit=2))).get_result()\n",
    "\n",
    "print(response1)"
   ]
  },
  {
   "cell_type": "code",
   "execution_count": null,
   "metadata": {},
   "outputs": [],
   "source": []
  }
 ],
 "metadata": {
  "kernelspec": {
   "display_name": "Python 3.9.5 64-bit",
   "language": "python",
   "name": "python3"
  },
  "language_info": {
   "codemirror_mode": {
    "name": "ipython",
    "version": 3
   },
   "file_extension": ".py",
   "mimetype": "text/x-python",
   "name": "python",
   "nbconvert_exporter": "python",
   "pygments_lexer": "ipython3",
   "version": "3.9.5"
  },
  "orig_nbformat": 4,
  "vscode": {
   "interpreter": {
    "hash": "a03c00cd90ff7f386b865d3be61500a338b6b15a4e24e06ba98453dc38e822c0"
   }
  }
 },
 "nbformat": 4,
 "nbformat_minor": 2
}
